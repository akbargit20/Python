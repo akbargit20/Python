{
 "cells": [
  {
   "cell_type": "code",
   "execution_count": 12,
   "metadata": {},
   "outputs": [
    {
     "name": "stdout",
     "output_type": "stream",
     "text": [
      "321\n"
     ]
    }
   ],
   "source": [
    "# Given a 32-bit signed integer, reverse digits of an integer.\n",
    "\n",
    "my_int=123\n",
    "my_list=list(str(my_int))\n",
    "\n",
    "for i in my_list:\n",
    "    my_list.reverse()\n",
    "print(\"\".join(my_list))\n",
    "# for j in my_list:\n",
    "#     print(j, end=\"\")\n"
   ]
  },
  {
   "cell_type": "code",
   "execution_count": 28,
   "metadata": {},
   "outputs": [
    {
     "name": "stdout",
     "output_type": "stream",
     "text": [
      "No Unique Character Found!\n",
      "No Unique Character Found!\n",
      "First non-repeating character is:  v\n"
     ]
    }
   ],
   "source": [
    "\n",
    "\n",
    "# Given a string, find the first non-repeating character in it and return its index. If it doesn't exist, return -1.\n",
    "\n",
    "s=\"loveleetcode\"\n",
    "while s != \"\":\n",
    "   slen0 = len(s)\n",
    "   ch = s[0]\n",
    "   s = s.replace(ch, \"\")\n",
    "   slen1 = len(s)\n",
    "   if slen1 == slen0-1:\n",
    "      print (\"First non-repeating character is: \",ch)\n",
    "      break;\n",
    "   else:\n",
    "      print (\"No Unique Character Found!\")\n",
    "   \n",
    "# print(new_list)"
   ]
  },
  {
   "cell_type": "code",
   "execution_count": 15,
   "metadata": {},
   "outputs": [
    {
     "name": "stdout",
     "output_type": "stream",
     "text": [
      "['h', 'e', 'l', 'l', 'o']\n",
      "['o', 'l', 'l', 'e', 'h']\n"
     ]
    }
   ],
   "source": [
    "# Write a function that reverses a string. The input string is given as an array of characters char[].\n",
    "\n",
    "# Do not allocate extra space for another array, you must do this by modifying the input array in-place with O(1) extra memory.\n",
    "\n",
    "string = \"hello\"\n",
    "my_string_list=(list(string))\n",
    "# reverse_string=my_string_list.reverse()\n",
    "print(my_string_list)\n",
    "for i in my_string_list:\n",
    "    my_string_list.reverse()\n",
    "print(my_string_list)"
   ]
  },
  {
   "cell_type": "code",
   "execution_count": 14,
   "metadata": {},
   "outputs": [
    {
     "name": "stdout",
     "output_type": "stream",
     "text": [
      "True\n",
      "False\n"
     ]
    }
   ],
   "source": [
    "# string1 = \"tra\"\n",
    "# string2 = \"ratt\"\n",
    "\n",
    "# list1=list(str(string1))\n",
    "# list2=list(str(string2))\n",
    "# print(list2)\n",
    "# newlist=[]\n",
    "# # def myfunc():\n",
    "# for i in list1:\n",
    "#     print(i)\n",
    "#     if (i not in list2) and (len(list1) != len(list2)):\n",
    "#         newlist.append(i)\n",
    "#         print(newlist)\n",
    "#         print('false') \n",
    "#     else:\n",
    "#         print('True')\n",
    "\n",
    "# # a=myfunc()\n",
    "# # print(a)\n",
    "input_str_1 = \"practice makes perfect\"\n",
    "input_str_2 = \"perfect makes practice\"\n",
    "\n",
    "input_str_3 = \"allergy\"\n",
    "input_str_4 = \"allergic\"\n",
    "\n",
    "\n",
    "def is_anagram(str_1, str_2):\n",
    "    str_1 = str_1.replace(\" \", \"\")\n",
    "    str_2 = str_2.replace(\" \", \"\")\n",
    "\n",
    "    if len(str_1) != len(str_2):\n",
    "        return False\n",
    "\n",
    "    alphabet = \"abcdefghijklmnopqrstuvwxyz\"\n",
    "    str_1 = str_1.lower()\n",
    "    str_2 = str_2.lower()\n",
    "\n",
    "    dict_1 = dict.fromkeys(list(alphabet), 0)\n",
    "    dict_2 = dict.fromkeys(list(alphabet), 0)\n",
    "\n",
    "    for i in range(len(str_1)):\n",
    "        dict_1[str_1[i]] += 1\n",
    "        dict_2[str_2[i]] += 1\n",
    "    return dict_1 == dict_2\n",
    "\n",
    "\n",
    "# Is an anagram:\n",
    "print(is_anagram(input_str_1, input_str_2))\n",
    "\n",
    "# Is not an anagram:\n",
    "print(is_anagram(input_str_3, input_str_4))\n",
    "\n"
   ]
  },
  {
   "cell_type": "code",
   "execution_count": 11,
   "metadata": {},
   "outputs": [
    {
     "name": "stdout",
     "output_type": "stream",
     "text": [
      "False\n",
      "['r', 'a', 'c', 'e', 'a', 'c', 'a', 'r', 'a']\n",
      "['a', 'r', 'a', 'c', 'a', 'e', 'c', 'a', 'r']\n",
      "not palindrome\n"
     ]
    }
   ],
   "source": [
    "mystring=\"race a cara\"\n",
    "newlist=[]\n",
    "anotherlist=[]\n",
    "#except_palidrome = letter + number + ignore cases + space\n",
    "print(mystring.isalnum())\n",
    "mylist=list(mystring)\n",
    "\n",
    "for elements in mylist:\n",
    "    elements=elements.lower()\n",
    "    if elements.isalnum():\n",
    "        newlist.append(elements)\n",
    "print(newlist)\n",
    "\n",
    "opp=newlist[::-1]\n",
    "print(opp)\n",
    "\n",
    "if newlist == opp:\n",
    "  print(\"palindrome\")\n",
    "else:\n",
    "  print(\"not palindrome\")\n"
   ]
  },
  {
   "cell_type": "code",
   "execution_count": null,
   "metadata": {},
   "outputs": [],
   "source": []
  }
 ],
 "metadata": {
  "kernelspec": {
   "display_name": "Python 3",
   "language": "python",
   "name": "python3"
  },
  "language_info": {
   "codemirror_mode": {
    "name": "ipython",
    "version": 3
   },
   "file_extension": ".py",
   "mimetype": "text/x-python",
   "name": "python",
   "nbconvert_exporter": "python",
   "pygments_lexer": "ipython3",
   "version": "3.8.4"
  }
 },
 "nbformat": 4,
 "nbformat_minor": 4
}
