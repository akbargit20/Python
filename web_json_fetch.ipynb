{
 "cells": [
  {
   "cell_type": "code",
   "execution_count": 1,
   "metadata": {},
   "outputs": [],
   "source": [
    "# Load the data from a public API"
   ]
  },
  {
   "cell_type": "code",
   "execution_count": 2,
   "metadata": {},
   "outputs": [],
   "source": [
    "# https://gbfs.baywheels.com/gbfs/es/station_status.json"
   ]
  },
  {
   "cell_type": "code",
   "execution_count": 160,
   "metadata": {},
   "outputs": [],
   "source": [
    "# Display two lists of top 20 stations that require immediate attention (one for stations with too few bikes and\n",
    "# one for stations with too many bikes.)\n",
    "import requests"
   ]
  },
  {
   "cell_type": "code",
   "execution_count": 161,
   "metadata": {},
   "outputs": [],
   "source": [
    "url=\"https://gbfs.baywheels.com/gbfs/es/station_status.json\""
   ]
  },
  {
   "cell_type": "code",
   "execution_count": 162,
   "metadata": {
    "scrolled": false
   },
   "outputs": [],
   "source": [
    "r = requests.get(url)"
   ]
  },
  {
   "cell_type": "code",
   "execution_count": 168,
   "metadata": {},
   "outputs": [
    {
     "name": "stdout",
     "output_type": "stream",
     "text": [
      "the list of stations with too few bikes or more available capacity [1, 2, 3, 4, 5, 6, 7, 8, 9, 10, 11, 12, 13, 14, 15, 16, 17, 18, 19, 20]\n",
      "the list of stations with too many bikes or exceeded bike capacity [31, 29, 27, 26, 25, 24, 23, 22, 21, 20, 19, 18, 17, 16, 15, 14, 13, 12, 11, 10]\n"
     ]
    }
   ],
   "source": [
    "with urllib.request.urlopen('https://gbfs.baywheels.com/gbfs/es/station_status.json') as url:\n",
    "    data = json.loads(url.read().decode())\n",
    "available_list=[]\n",
    "exceeded_list=[]\n",
    "\n",
    "for items in data['data']['stations']:\n",
    "    bike_available=items['num_bikes_available']\n",
    "    docks_available=items['num_docks_available']\n",
    "    if docks_available > bike_available:\n",
    "        available_capacity = docks_available - bike_available #too few bikes (ascending)\n",
    "        available_list.append(available_capacity)\n",
    "        \n",
    "        \n",
    "    elif docks_available < bike_available:\n",
    "        exceeded_capacity = bike_available - docks_available  #too many bikes (decending)\n",
    "        exceeded_list.append(exceeded_capacity)\n",
    "\n",
    "    else:\n",
    "        pass\n",
    "available_list = sorted(set(available_list))\n",
    "exceeded_list = sorted(set(exceeded_list), reverse=True)\n",
    "print(\"the list of stations with too few bikes or more available capacity\", available_list[:20])\n",
    "print(\"the list of stations with too many bikes or exceeded bike capacity\", exceeded_list[:20])\n",
    "\n"
   ]
  },
  {
   "cell_type": "code",
   "execution_count": null,
   "metadata": {},
   "outputs": [],
   "source": []
  },
  {
   "cell_type": "code",
   "execution_count": null,
   "metadata": {},
   "outputs": [],
   "source": []
  }
 ],
 "metadata": {
  "kernelspec": {
   "display_name": "Python 3",
   "language": "python",
   "name": "python3"
  },
  "language_info": {
   "codemirror_mode": {
    "name": "ipython",
    "version": 3
   },
   "file_extension": ".py",
   "mimetype": "text/x-python",
   "name": "python",
   "nbconvert_exporter": "python",
   "pygments_lexer": "ipython3",
   "version": "3.8.6"
  }
 },
 "nbformat": 4,
 "nbformat_minor": 4
}
